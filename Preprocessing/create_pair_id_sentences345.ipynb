{
 "cells": [
  {
   "cell_type": "code",
   "execution_count": 5,
   "metadata": {
    "collapsed": true
   },
   "outputs": [],
   "source": [
    "import numpy as np\n",
    "import pandas as pd\n",
    "import json"
   ]
  },
  {
   "cell_type": "code",
   "execution_count": 6,
   "metadata": {
    "collapsed": false
   },
   "outputs": [],
   "source": [
    "df_train_raw = pd.read_csv(\"data/train-unbalanced.csv\",sep='|',header=None,names=['thread','sentences','labels'])\n",
    "df_test_raw = pd.read_csv(\"data/test-unbalanced.csv\",sep='|',header=None,names=['thread','sentences','labels'])"
   ]
  },
  {
   "cell_type": "code",
   "execution_count": 39,
   "metadata": {
    "collapsed": false
   },
   "outputs": [],
   "source": [
    "def create_pair_id_sentences(df_raw,csv_name):\n",
    "    res = []\n",
    "    for index,row in df_raw.iterrows():\n",
    "        thread = row['thread']\n",
    "        if len(thread.split()) == 1:\n",
    "            list_sentences = row['sentences'].split()\n",
    "            list_label = row['labels'].split()\n",
    "            res.append([thread,list_sentences[0],list_label[0]])\n",
    "            for i in range(1,len(list_sentences)):\n",
    "                res.append([list_sentences[i-1],list_sentences[i],list_label[i]])\n",
    "        if index%10000==0:\n",
    "            print(index,'/',len(df_raw))\n",
    "\n",
    "    df_res = pd.DataFrame(data=res,columns=['previous_sentence','sentence','label']) \n",
    "    print(\"shape \", df_res.shape)\n",
    "    df_res.to_csv(path_or_buf='data/'+csv_name,sep=',')\n",
    "    \n",
    "\n",
    "def create_5_id_sentences(df_raw,csv_name):\n",
    "    res = []\n",
    "    for index,row in df_raw.iterrows():\n",
    "        thread = row['thread']\n",
    "        if len(thread.split()) == 1:\n",
    "            list_sentences = row['sentences'].split()\n",
    "            list_label = row['labels'].split()\n",
    "            res.append([-1,-1,-1,thread,list_sentences[0],list_label[0]])\n",
    "            if len(list_sentences)>=2:\n",
    "                res.append([-1,-1,thread,list_sentences[0],list_sentences[1],list_label[1]])\n",
    "            if len(list_sentences)>=3:\n",
    "                res.append([-1,thread,list_sentences[0],list_sentences[1],list_sentences[2],list_label[2]])\n",
    "            if len(list_sentences)>=4:\n",
    "                res.append([thread,list_sentences[0],list_sentences[1],list_sentences[2],list_sentences[3],list_label[3]])\n",
    "            for i in range(4,len(list_sentences)):\n",
    "                res.append([list_sentences[i-4],list_sentences[i-3],list_sentences[i-2],list_sentences[i-1],list_sentences[i],list_label[i]])\n",
    "        if index%10000==0:\n",
    "            print(index,'/',len(df_raw))\n",
    "\n",
    "    df_res = pd.DataFrame(data=res,columns=['previous4_sentence','previous3_sentence','previous2_sentence','previous_sentence','sentence','label']) \n",
    "    print(\"shape \", df_res.shape)\n",
    "    df_res.to_csv(path_or_buf='data/'+csv_name,sep=',')\n",
    "\n"
   ]
  },
  {
   "cell_type": "code",
   "execution_count": 40,
   "metadata": {
    "collapsed": false
   },
   "outputs": [
    {
     "name": "stdout",
     "output_type": "stream",
     "text": [
      "0 / 256115\n",
      "10000 / 256115\n",
      "20000 / 256115\n",
      "30000 / 256115\n",
      "40000 / 256115\n",
      "50000 / 256115\n",
      "60000 / 256115\n",
      "70000 / 256115\n",
      "80000 / 256115\n",
      "90000 / 256115\n",
      "100000 / 256115\n",
      "110000 / 256115\n",
      "120000 / 256115\n",
      "130000 / 256115\n",
      "140000 / 256115\n",
      "150000 / 256115\n",
      "160000 / 256115\n",
      "170000 / 256115\n",
      "180000 / 256115\n",
      "190000 / 256115\n",
      "200000 / 256115\n",
      "210000 / 256115\n",
      "220000 / 256115\n",
      "230000 / 256115\n",
      "240000 / 256115\n",
      "250000 / 256115\n",
      "shape  (6607162, 6)\n",
      "0 / 63998\n",
      "10000 / 63998\n",
      "20000 / 63998\n",
      "30000 / 63998\n",
      "40000 / 63998\n",
      "50000 / 63998\n",
      "60000 / 63998\n",
      "shape  (1645505, 6)\n"
     ]
    }
   ],
   "source": [
    "create_5_id_sentences(df_train_raw,'5_id_train.csv')\n",
    "create_5_id_sentences(df_test_raw,'5_id_test.csv')"
   ]
  },
  {
   "cell_type": "code",
   "execution_count": null,
   "metadata": {
    "collapsed": true
   },
   "outputs": [],
   "source": []
  }
 ],
 "metadata": {
  "kernelspec": {
   "display_name": "Python 3",
   "language": "python",
   "name": "python3"
  },
  "language_info": {
   "codemirror_mode": {
    "name": "ipython",
    "version": 3
   },
   "file_extension": ".py",
   "mimetype": "text/x-python",
   "name": "python",
   "nbconvert_exporter": "python",
   "pygments_lexer": "ipython3",
   "version": "3.6.0"
  }
 },
 "nbformat": 4,
 "nbformat_minor": 2
}
