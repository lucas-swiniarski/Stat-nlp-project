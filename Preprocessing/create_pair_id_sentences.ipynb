{
 "cells": [
  {
   "cell_type": "code",
   "execution_count": 12,
   "metadata": {
    "collapsed": true
   },
   "outputs": [],
   "source": [
    "import numpy as np\n",
    "import pandas as pd\n",
    "import json"
   ]
  },
  {
   "cell_type": "code",
   "execution_count": 13,
   "metadata": {
    "collapsed": false
   },
   "outputs": [],
   "source": [
    "df_train_raw = pd.read_csv(\"data/train-unbalanced.csv\",sep='|',header=None,names=['thread','sentences','labels'])"
   ]
  },
  {
   "cell_type": "code",
   "execution_count": 14,
   "metadata": {
    "collapsed": false
   },
   "outputs": [
    {
     "name": "stdout",
     "output_type": "stream",
     "text": [
      "0 / 256115\n",
      "10000 / 256115\n",
      "20000 / 256115\n",
      "30000 / 256115\n",
      "40000 / 256115\n",
      "50000 / 256115\n",
      "60000 / 256115\n",
      "70000 / 256115\n",
      "80000 / 256115\n",
      "90000 / 256115\n",
      "100000 / 256115\n",
      "110000 / 256115\n",
      "120000 / 256115\n",
      "130000 / 256115\n",
      "140000 / 256115\n",
      "150000 / 256115\n",
      "160000 / 256115\n",
      "170000 / 256115\n",
      "180000 / 256115\n",
      "190000 / 256115\n",
      "200000 / 256115\n",
      "210000 / 256115\n",
      "220000 / 256115\n",
      "230000 / 256115\n",
      "240000 / 256115\n",
      "250000 / 256115\n"
     ]
    }
   ],
   "source": [
    "res = []\n",
    "for index,row in df_train_raw.iterrows():\n",
    "    thread = row['thread']\n",
    "    list_sentences = row['sentences'].split()\n",
    "    list_label = row['labels'].split()\n",
    "    res.append([thread,list_sentences[0],list_label[0]])\n",
    "    for i in range(1,len(list_sentences)):\n",
    "        res.append([list_sentences[i-1],list_sentences[i],list_label[i]])\n",
    "    if index%10000==0:\n",
    "        print(index,'/',len(df_train_raw))"
   ]
  },
  {
   "cell_type": "code",
   "execution_count": 15,
   "metadata": {
    "collapsed": true
   },
   "outputs": [],
   "source": [
    "df_train = pd.DataFrame(data=res,columns=['previous_sentence','sentence','label']) "
   ]
  },
  {
   "cell_type": "code",
   "execution_count": 18,
   "metadata": {
    "collapsed": false
   },
   "outputs": [
    {
     "data": {
      "text/plain": [
       "(6755072, 3)"
      ]
     },
     "execution_count": 18,
     "metadata": {},
     "output_type": "execute_result"
    }
   ],
   "source": [
    "df_train.shape"
   ]
  },
  {
   "cell_type": "code",
   "execution_count": 19,
   "metadata": {
    "collapsed": true
   },
   "outputs": [],
   "source": [
    "df_train.to_csv(path_or_buf='data/pair_id_sentences.csv',sep=',')"
   ]
  },
  {
   "cell_type": "code",
   "execution_count": null,
   "metadata": {
    "collapsed": true
   },
   "outputs": [],
   "source": []
  }
 ],
 "metadata": {
  "kernelspec": {
   "display_name": "Python 3",
   "language": "python",
   "name": "python3"
  },
  "language_info": {
   "codemirror_mode": {
    "name": "ipython",
    "version": 3
   },
   "file_extension": ".py",
   "mimetype": "text/x-python",
   "name": "python",
   "nbconvert_exporter": "python",
   "pygments_lexer": "ipython3",
   "version": "3.6.0"
  }
 },
 "nbformat": 4,
 "nbformat_minor": 2
}
