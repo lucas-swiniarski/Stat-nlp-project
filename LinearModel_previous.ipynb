{
 "cells": [
  {
   "cell_type": "code",
   "execution_count": null,
   "metadata": {
    "collapsed": true
   },
   "outputs": [],
   "source": [
    "import pandas as pd\n",
    "import numpy as np\n",
    "from scipy.sparse import hstack\n",
    "from sklearn.feature_extraction.text import TfidfVectorizer \n",
    "from sklearn.linear_model import LogisticRegression\n",
    "from sklearn.metrics import accuracy_score\n",
    "import matplotlib.pyplot as plt"
   ]
  },
  {
   "cell_type": "code",
   "execution_count": null,
   "metadata": {
    "collapsed": false
   },
   "outputs": [],
   "source": [
    "df_train = pd.read_csv('data/8_sentences_train.csv',sep='|',index_col=0)\n",
    "df_test = pd.read_csv('data/8_sentences_test.csv',sep='|',index_col=0)"
   ]
  },
  {
   "cell_type": "code",
   "execution_count": null,
   "metadata": {
    "collapsed": false
   },
   "outputs": [],
   "source": [
    "df_train_pos = df_train[df_train['label']==1]\n",
    "df_train_neg = df_train[df_train['label']==0].sample(n = df_train_pos.shape[0])\n",
    "\n",
    "df_array = [df_train_pos,df_train_neg]\n",
    "df_train_balanced = pd.concat(df_array)\n",
    "df_train_balanced = df_train_balanced.sample(frac=1)\n",
    "df_train_balanced = df_train_balanced.fillna(\"\")"
   ]
  },
  {
   "cell_type": "code",
   "execution_count": null,
   "metadata": {
    "collapsed": false
   },
   "outputs": [],
   "source": [
    "all_sentences = df_train_balanced['sentence'] + ' ' + \\\n",
    "                df_train_balanced['prev1'] + ' ' + \\\n",
    "                df_train_balanced['prev2'] + ' ' + \\\n",
    "                df_train_balanced['prev3'] + ' ' + \\\n",
    "                df_train_balanced['prev4'] + ' ' + \\\n",
    "                df_train_balanced['prev5'] + ' ' + \\\n",
    "                df_train_balanced['prev6'] + ' ' + \\\n",
    "                df_train_balanced['prev7'] + ' ' + \\\n",
    "                df_train_balanced['prev8']"
   ]
  },
  {
   "cell_type": "code",
   "execution_count": null,
   "metadata": {
    "collapsed": false
   },
   "outputs": [],
   "source": [
    "vectorizer = TfidfVectorizer(stop_words='english',ngram_range=(1,2))\n",
    "vectorizer.fit(all_sentences.values.astype('U'))"
   ]
  },
  {
   "cell_type": "code",
   "execution_count": null,
   "metadata": {
    "collapsed": true
   },
   "outputs": [],
   "source": [
    "del all_sentences"
   ]
  },
  {
   "cell_type": "code",
   "execution_count": null,
   "metadata": {
    "collapsed": true
   },
   "outputs": [],
   "source": [
    "X_sentence = vectorizer.transform(df_train_balanced['sentence'].values.astype('U'))\n",
    "X_prev1 = vectorizer.transform(df_train_balanced['prev1'].values.astype('U'))\n",
    "X_prev2 = vectorizer.transform(df_train_balanced['prev2'].values.astype('U'))\n",
    "X_prev3 = vectorizer.transform(df_train_balanced['prev3'].values.astype('U'))\n",
    "X_prev4 = vectorizer.transform(df_train_balanced['prev4'].values.astype('U'))\n",
    "X_prev5 = vectorizer.transform(df_train_balanced['prev5'].values.astype('U'))\n",
    "X_prev6 = vectorizer.transform(df_train_balanced['prev6'].values.astype('U'))\n",
    "X_prev7 = vectorizer.transform(df_train_balanced['prev7'].values.astype('U'))\n",
    "X_prev8 = vectorizer.transform(df_train_balanced['prev8'].values.astype('U'))\n",
    "\n",
    "list_sentence = [X_sentence,X_prev1,X_prev2,X_prev3,X_prev4,X_prev5,X_prev6,X_prev7,X_prev8]"
   ]
  },
  {
   "cell_type": "code",
   "execution_count": null,
   "metadata": {
    "collapsed": true
   },
   "outputs": [],
   "source": [
    "X_sentence_test = vectorizer.transform(df_test['sentence'].values.astype('U'))\n",
    "X_prev1_test = vectorizer.transform(df_test['prev1'].values.astype('U'))\n",
    "X_prev2_test = vectorizer.transform(df_test['prev2'].values.astype('U'))\n",
    "X_prev3_test = vectorizer.transform(df_test['prev3'].values.astype('U'))\n",
    "X_prev4_test = vectorizer.transform(df_test['prev4'].values.astype('U'))\n",
    "X_prev5_test = vectorizer.transform(df_test['prev5'].values.astype('U'))\n",
    "X_prev6_test = vectorizer.transform(df_test['prev6'].values.astype('U'))\n",
    "X_prev7_test = vectorizer.transform(df_test['prev7'].values.astype('U'))\n",
    "X_prev8_test = vectorizer.transform(df_test['prev8'].values.astype('U'))\n",
    "\n",
    "list_sentence_test = [X_sentence_test,X_prev1_test,X_prev2_test,X_prev3_test,\n",
    "                 X_prev4_test,X_prev5_test,X_prev6_test,X_prev7_test,X_prev8_test]"
   ]
  },
  {
   "cell_type": "code",
   "execution_count": null,
   "metadata": {
    "collapsed": false
   },
   "outputs": [],
   "source": [
    "accuracy_array = np.zeros(9)\n",
    "for i in range(9):\n",
    "    if i>0:\n",
    "        X_train = hstack(list_sentence[:i])\n",
    "        X_test = hstack(list_sentence_test[:i])\n",
    "    else:\n",
    "        X_train = list_sentence[0]\n",
    "        X_test = list_sentence_test[0]\n",
    "    y_train = df_train_balanced['label']\n",
    "    y_test = df_test['label']\n",
    "    \n",
    "    lr = LogisticRegression()\n",
    "    lr.fit(X_train,y_train)\n",
    "    y_test_predict = lr.predict(X_test)\n",
    "    accuracy = accuracy_score(y_test, y_test_predict)\n",
    "    print('i: ',i,'  accuracy: ',accuracy)\n",
    "    accuracy_array[i] = accuracy"
   ]
  },
  {
   "cell_type": "code",
   "execution_count": null,
   "metadata": {
    "collapsed": false
   },
   "outputs": [],
   "source": [
    "plt.figure(figsize=(12,8))\n",
    "plt.plot(range(9), accuracy_array)\n",
    "plt.title('Hyperparameter tuning: Accuracy according to n-gram length and C parameter of logistic regression (C = inverse of regularization strength)')\n",
    "plt.xlabel('n-gram included in the tf-idf vectorizer from 1 to x')\n",
    "plt.ylabel('accuracy')\n",
    "plt.show()"
   ]
  },
  {
   "cell_type": "code",
   "execution_count": null,
   "metadata": {
    "collapsed": true
   },
   "outputs": [],
   "source": []
  }
 ],
 "metadata": {
  "kernelspec": {
   "display_name": "Python 3",
   "language": "python",
   "name": "python3"
  },
  "language_info": {
   "codemirror_mode": {
    "name": "ipython",
    "version": 3
   },
   "file_extension": ".py",
   "mimetype": "text/x-python",
   "name": "python",
   "nbconvert_exporter": "python",
   "pygments_lexer": "ipython3",
   "version": "3.6.0"
  }
 },
 "nbformat": 4,
 "nbformat_minor": 2
}
