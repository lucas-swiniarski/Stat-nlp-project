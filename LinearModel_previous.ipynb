{
 "cells": [
  {
   "cell_type": "code",
   "execution_count": 1,
   "metadata": {
    "collapsed": true
   },
   "outputs": [],
   "source": [
    "import pandas as pd\n",
    "import numpy as np\n",
    "from scipy.sparse import hstack\n",
    "from sklearn.feature_extraction.text import TfidfVectorizer \n",
    "from sklearn.model_selection import train_test_split\n",
    "from sklearn.svm import SVC\n",
    "from sklearn.linear_model import LogisticRegression\n",
    "from sklearn.metrics import accuracy_score\n",
    "import matplotlib.pyplot as plt\n"
   ]
  },
  {
   "cell_type": "code",
   "execution_count": 2,
   "metadata": {
    "collapsed": false
   },
   "outputs": [
    {
     "name": "stderr",
     "output_type": "stream",
     "text": [
      "/Users/rubenstern/anaconda3/lib/python3.6/site-packages/numpy/lib/arraysetops.py:463: FutureWarning: elementwise comparison failed; returning scalar instead, but in the future will perform elementwise comparison\n",
      "  mask |= (ar1 == a)\n"
     ]
    }
   ],
   "source": [
    "df_train = pd.read_csv('data/8_sentences_train.csv',sep='|',index_col=0)\n",
    "#df_test = pd.read_csv('data/5_sentences_test.csv',sep='|',index_col=0)"
   ]
  },
  {
   "cell_type": "code",
   "execution_count": 3,
   "metadata": {
    "collapsed": false
   },
   "outputs": [],
   "source": [
    "df_train_pos = df_train[df_train['label']==1]\n",
    "df_train_neg = df_train[df_train['label']==0].sample(n = df_train_pos.shape[0])\n",
    "\n",
    "df_array = [df_train_pos,df_train_neg]\n",
    "df_train_balanced = pd.concat(df_array)\n",
    "df_train_balanced = df_train_balanced.sample(frac=1)\n",
    "df_train_balanced = df_train_balanced.fillna(\"\")"
   ]
  },
  {
   "cell_type": "code",
   "execution_count": 4,
   "metadata": {
    "collapsed": false
   },
   "outputs": [
    {
     "data": {
      "text/plain": [
       "Index(['prev8', 'prev7', 'prev6', 'prev5', 'prev4', 'prev3', 'prev2', 'prev1',\n",
       "       'sentence', 'label'],\n",
       "      dtype='object')"
      ]
     },
     "execution_count": 4,
     "metadata": {},
     "output_type": "execute_result"
    }
   ],
   "source": [
    "df_train_balanced.columnsumns"
   ]
  },
  {
   "cell_type": "code",
   "execution_count": 5,
   "metadata": {
    "collapsed": false
   },
   "outputs": [],
   "source": [
    "all_sentences = df_train_balanced['sentence'] + ' ' + \\\n",
    "                df_train_balanced['prev1'] + ' ' + \\\n",
    "                df_train_balanced['prev2'] + ' ' + \\\n",
    "                df_train_balanced['prev3'] + ' ' + \\\n",
    "                df_train_balanced['prev4'] + ' ' + \\\n",
    "                df_train_balanced['prev5'] + ' ' + \\\n",
    "                df_train_balanced['prev6'] + ' ' + \\\n",
    "                df_train_balanced['prev7'] + ' ' + \\\n",
    "                df_train_balanced['prev8']"
   ]
  },
  {
   "cell_type": "code",
   "execution_count": 6,
   "metadata": {
    "collapsed": false
   },
   "outputs": [
    {
     "data": {
      "text/plain": [
       "TfidfVectorizer(analyzer='word', binary=False, decode_error='strict',\n",
       "        dtype=<class 'numpy.int64'>, encoding='utf-8', input='content',\n",
       "        lowercase=True, max_df=1.0, max_features=None, min_df=1,\n",
       "        ngram_range=(1, 2), norm='l2', preprocessor=None, smooth_idf=True,\n",
       "        stop_words='english', strip_accents=None, sublinear_tf=False,\n",
       "        token_pattern='(?u)\\\\b\\\\w\\\\w+\\\\b', tokenizer=None, use_idf=True,\n",
       "        vocabulary=None)"
      ]
     },
     "execution_count": 6,
     "metadata": {},
     "output_type": "execute_result"
    }
   ],
   "source": [
    "vectorizer = TfidfVectorizer(stop_words='english',ngram_range=(1,2))\n",
    "vectorizer.fit(all_sentences.values.astype('U'))"
   ]
  },
  {
   "cell_type": "code",
   "execution_count": 7,
   "metadata": {
    "collapsed": true
   },
   "outputs": [],
   "source": [
    "X_sentence = vectorizer.transform(df_train_balanced['sentence'].values.astype('U'))\n",
    "X_prev1 = vectorizer.transform(df_train_balanced['prev1'].values.astype('U'))\n",
    "X_prev2 = vectorizer.transform(df_train_balanced['prev2'].values.astype('U'))\n",
    "X_prev3 = vectorizer.transform(df_train_balanced['prev3'].values.astype('U'))\n",
    "X_prev4 = vectorizer.transform(df_train_balanced['prev4'].values.astype('U'))\n",
    "X_prev5 = vectorizer.transform(df_train_balanced['prev5'].values.astype('U'))\n",
    "X_prev6 = vectorizer.transform(df_train_balanced['prev6'].values.astype('U'))\n",
    "X_prev7 = vectorizer.transform(df_train_balanced['prev7'].values.astype('U'))\n",
    "X_prev8 = vectorizer.transform(df_train_balanced['prev8'].values.astype('U'))\n",
    "\n",
    "list_sentence = [X_sentence,X_prev1,X_prev2,X_prev3,X_prev4,X_prev5,X_prev6,X_prev7,X_prev8]"
   ]
  },
  {
   "cell_type": "code",
   "execution_count": 12,
   "metadata": {
    "collapsed": false
   },
   "outputs": [
    {
     "name": "stdout",
     "output_type": "stream",
     "text": [
      "i:  0   accuracy:  0.6797993581\n",
      "i:  1   accuracy:  0.678165779409\n",
      "i:  2   accuracy:  0.685026809909\n",
      "i:  3   accuracy:  0.7005938539\n",
      "i:  4   accuracy:  0.721849595449\n",
      "i:  5   accuracy:  0.736724770819\n",
      "i:  6   accuracy:  0.751907443353\n",
      "i:  7   accuracy:  0.760882516864\n",
      "i:  8   accuracy:  0.770895393308\n"
     ]
    }
   ],
   "source": [
    "accuracy_array = np.zeros(9)\n",
    "for i in range(9):\n",
    "    if i>0:\n",
    "        X = hstack(list_sentence[:i])\n",
    "    else:\n",
    "        X = list_sentence[0]\n",
    "    y = df_train_balanced['label']\n",
    "    X_train, X_test, y_train, y_test = train_test_split(X, y, test_size=0.2)\n",
    "    \n",
    "    lr = LogisticRegression()\n",
    "    lr.fit(X_train,y_train)\n",
    "    y_test_predict = lr.predict(X_test)\n",
    "    accuracy = accuracy_score(y_test, y_test_predict)\n",
    "    print('i: ',i,'  accuracy: ',accuracy)\n",
    "    accuracy_array[i] = accuracy"
   ]
  },
  {
   "cell_type": "code",
   "execution_count": 13,
   "metadata": {
    "collapsed": false
   },
   "outputs": [
    {
     "data": {
      "image/png": "[encoded data removed]",
      "text/plain": [
       "<matplotlib.figure.Figure at 0x2a54a6550>"
      ]
     },
     "metadata": {},
     "output_type": "display_data"
    }
   ],
   "source": [
    "plt.figure(figsize=(12,8))\n",
    "plt.plot(range(9), accuracy_array)\n",
    "plt.title('Hyperparameter tuning: Accuracy according to n-gram length and C parameter of logistic regression (C = inverse of regularization strength)')\n",
    "plt.xlabel('n-gram included in the tf-idf vectorizer from 1 to x')\n",
    "plt.ylabel('accuracy')\n",
    "plt.show()"
   ]
  },
  {
   "cell_type": "code",
   "execution_count": null,
   "metadata": {
    "collapsed": true
   },
   "outputs": [],
   "source": []
  }
 ],
 "metadata": {
  "kernelspec": {
   "display_name": "Python 3",
   "language": "python",
   "name": "python3"
  },
  "language_info": {
   "codemirror_mode": {
    "name": "ipython",
    "version": 3
   },
   "file_extension": ".py",
   "mimetype": "text/x-python",
   "name": "python",
   "nbconvert_exporter": "python",
   "pygments_lexer": "ipython3",
   "version": "3.6.0"
  }
 },
 "nbformat": 4,
 "nbformat_minor": 2
}
